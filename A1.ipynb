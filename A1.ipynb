{
  "nbformat": 4,
  "nbformat_minor": 0,
  "metadata": {
    "colab": {
      "name": "A1.ipynb",
      "version": "0.3.2",
      "provenance": [],
      "collapsed_sections": [],
      "include_colab_link": true
    },
    "kernelspec": {
      "name": "python3",
      "display_name": "Python 3"
    }
  },
  "cells": [
    {
      "cell_type": "markdown",
      "metadata": {
        "id": "view-in-github",
        "colab_type": "text"
      },
      "source": [
        "<a href=\"https://colab.research.google.com/github/DiannanWei/UTS_ML2019_ID12998872/blob/master/A1.ipynb\" target=\"_parent\"><img src=\"https://colab.research.google.com/assets/colab-badge.svg\" alt=\"Open In Colab\"/></a>"
      ]
    },
    {
      "cell_type": "markdown",
      "metadata": {
        "id": "KjkUr1nIsn_l",
        "colab_type": "text"
      },
      "source": [
        "Machine Learning 2019    Assignment 1\n",
        "\n",
        "\n",
        "\n",
        "Content: 300\n",
        "\n",
        "Innovation: 300\n",
        "\n",
        "Technical Quality: 200\n",
        "\n",
        "Application and X-Factor: 200\n",
        "\n",
        "Presentation: 100\n",
        "\n",
        "\n",
        "\n",
        "\n",
        "11:59 28 Aug 2019-"
      ]
    }
  ]
}